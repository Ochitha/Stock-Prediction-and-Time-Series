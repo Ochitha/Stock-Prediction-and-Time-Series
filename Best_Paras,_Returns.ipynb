{
  "nbformat": 4,
  "nbformat_minor": 0,
  "metadata": {
    "colab": {
      "provenance": []
    },
    "kernelspec": {
      "name": "python3",
      "display_name": "Python 3"
    },
    "language_info": {
      "name": "python"
    }
  },
  "cells": [
    {
      "cell_type": "markdown",
      "source": [
        "#CSE latest index"
      ],
      "metadata": {
        "id": "gVKDKl5mqXFj"
      }
    },
    {
      "cell_type": "code",
      "execution_count": null,
      "metadata": {
        "id": "HLGAnE9NWQzG"
      },
      "outputs": [],
      "source": [
        "import pandas as pd"
      ]
    },
    {
      "cell_type": "code",
      "source": [
        "from google.colab import drive\n",
        "drive.mount('/content/drive',force_remount=True)"
      ],
      "metadata": {
        "colab": {
          "base_uri": "https://localhost:8080/"
        },
        "id": "65RyC68Lomyn",
        "outputId": "0c14fe1c-9a28-40f3-8135-40a05040e52f"
      },
      "execution_count": null,
      "outputs": [
        {
          "output_type": "stream",
          "name": "stdout",
          "text": [
            "Mounted at /content/drive\n"
          ]
        }
      ]
    },
    {
      "cell_type": "code",
      "source": [
        "df= pd.read_csv('/content/drive/MyDrive/CSE All-Share Historical Data Latest.csv')"
      ],
      "metadata": {
        "id": "utARx17Yorbk"
      },
      "execution_count": null,
      "outputs": []
    },
    {
      "cell_type": "code",
      "source": [
        "df.columns"
      ],
      "metadata": {
        "colab": {
          "base_uri": "https://localhost:8080/"
        },
        "id": "ZriV7NnBplUU",
        "outputId": "7824372a-5d42-4761-d59b-8552016bb817"
      },
      "execution_count": null,
      "outputs": [
        {
          "output_type": "execute_result",
          "data": {
            "text/plain": [
              "Index(['Date', 'Price', 'Open', 'High', 'Low', 'Vol.', 'Change %'], dtype='object')"
            ]
          },
          "metadata": {},
          "execution_count": 41
        }
      ]
    },
    {
      "cell_type": "code",
      "source": [
        "df[\"Price\"] = df[\"Price\"].str.replace(\",\", \"\").astype(float)"
      ],
      "metadata": {
        "id": "NpLlFQLsp7m9"
      },
      "execution_count": null,
      "outputs": []
    },
    {
      "cell_type": "code",
      "source": [
        "# Calculate the returns based on the closing prices\n",
        "df['returns'] = df['Price'].pct_change()"
      ],
      "metadata": {
        "id": "HbtrNatZppYf"
      },
      "execution_count": null,
      "outputs": []
    },
    {
      "cell_type": "code",
      "source": [
        "# Define the range of moving average lengths to test\n",
        "min_length = 5\n",
        "max_length = 30\n",
        "step = 5"
      ],
      "metadata": {
        "id": "Zqg7J8mgpr2k"
      },
      "execution_count": null,
      "outputs": []
    },
    {
      "cell_type": "code",
      "source": [
        "best_returns = float('-inf')\n",
        "best_params = None"
      ],
      "metadata": {
        "id": "lcwwBc1ZqB2z"
      },
      "execution_count": null,
      "outputs": []
    },
    {
      "cell_type": "code",
      "source": [
        "# Iterate over the combinations of moving average lengths\n",
        "for short_length in range(min_length, max_length, step):\n",
        "    for long_length in range(short_length + 1, max_length + 1, step):\n",
        "        # Calculate the moving averages\n",
        "        df['short_ma'] = df['Price'].rolling(short_length).mean()\n",
        "        df['long_ma'] = df['Price'].rolling(long_length).mean()\n",
        "\n",
        "\n",
        "\n",
        "        # Apply the strategy\n",
        "        df['position'] = 0\n",
        "        df.loc[df['short_ma'] > df['long_ma'], 'position'] = 1\n",
        "\n",
        "\n",
        "\n",
        "        # Calculate the strategy returns\n",
        "        df['strategy_returns'] = df['position'].shift() * df['returns']\n",
        "\n",
        "\n",
        "\n",
        "        # Calculate the total returns\n",
        "        total_returns = df['strategy_returns'].sum()\n",
        "\n",
        "\n",
        "\n",
        "        # Update the best parameters if necessary\n",
        "        if total_returns > best_returns:\n",
        "            best_returns = total_returns\n",
        "            best_params = (short_length, long_length)\n",
        "\n",
        "\n",
        "\n",
        "# Print the best parameters and returns\n",
        "print(\"Best Parameters: Short MA Length = {}, Long MA Length = {}\".format(best_params[0], best_params[1]))\n",
        "print(\"Best Returns: {:.2%}\".format(best_returns))"
      ],
      "metadata": {
        "colab": {
          "base_uri": "https://localhost:8080/"
        },
        "id": "Nj5dlBKyqD9D",
        "outputId": "a1843ea3-cdd1-45d2-aa40-7a45cb0ec681"
      },
      "execution_count": null,
      "outputs": [
        {
          "output_type": "stream",
          "name": "stdout",
          "text": [
            "Best Parameters: Short MA Length = 5, Long MA Length = 11\n",
            "Best Returns: 74.16%\n"
          ]
        }
      ]
    },
    {
      "cell_type": "code",
      "source": [],
      "metadata": {
        "id": "UIPyEFYRqSzY"
      },
      "execution_count": null,
      "outputs": []
    },
    {
      "cell_type": "markdown",
      "source": [
        "#Dialog latest index"
      ],
      "metadata": {
        "id": "9TwoN4s_qgg6"
      }
    },
    {
      "cell_type": "code",
      "source": [
        "df= pd.read_csv('/content/drive/MyDrive/DIAL Historical Data.csv')"
      ],
      "metadata": {
        "id": "qcLyS814qi9U"
      },
      "execution_count": null,
      "outputs": []
    },
    {
      "cell_type": "code",
      "source": [
        "# Calculate the returns based on the closing prices\n",
        "df['returns'] = df['Price'].pct_change()"
      ],
      "metadata": {
        "id": "4RC_p5RTqxLY"
      },
      "execution_count": null,
      "outputs": []
    },
    {
      "cell_type": "code",
      "source": [
        "# Define the range of moving average lengths to test\n",
        "min_length = 5\n",
        "max_length = 30\n",
        "step = 5"
      ],
      "metadata": {
        "id": "iGc2ZkwwqyyP"
      },
      "execution_count": null,
      "outputs": []
    },
    {
      "cell_type": "code",
      "source": [
        "best_returns = float('-inf')\n",
        "best_params = None"
      ],
      "metadata": {
        "id": "sdS1M40bq0Gy"
      },
      "execution_count": null,
      "outputs": []
    },
    {
      "cell_type": "code",
      "source": [
        "# Iterate over the combinations of moving average lengths\n",
        "for short_length in range(min_length, max_length, step):\n",
        "    for long_length in range(short_length + 1, max_length + 1, step):\n",
        "        # Calculate the moving averages\n",
        "        df['short_ma'] = df['Price'].rolling(short_length).mean()\n",
        "        df['long_ma'] = df['Price'].rolling(long_length).mean()\n",
        "\n",
        "\n",
        "\n",
        "        # Apply the strategy\n",
        "        df['position'] = 0\n",
        "        df.loc[df['short_ma'] > df['long_ma'], 'position'] = 1\n",
        "\n",
        "\n",
        "\n",
        "        # Calculate the strategy returns\n",
        "        df['strategy_returns'] = df['position'].shift() * df['returns']\n",
        "\n",
        "\n",
        "\n",
        "        # Calculate the total returns\n",
        "        total_returns = df['strategy_returns'].sum()\n",
        "\n",
        "\n",
        "\n",
        "        # Update the best parameters if necessary\n",
        "        if total_returns > best_returns:\n",
        "            best_returns = total_returns\n",
        "            best_params = (short_length, long_length)\n",
        "\n",
        "\n",
        "\n",
        "# Print the best parameters and returns\n",
        "print(\"Best Parameters: Short MA Length = {}, Long MA Length = {}\".format(best_params[0], best_params[1]))\n",
        "print(\"Best Returns: {:.2%}\".format(best_returns))"
      ],
      "metadata": {
        "colab": {
          "base_uri": "https://localhost:8080/"
        },
        "id": "uuimQIYkq16u",
        "outputId": "3323e705-f2b2-40f4-bcbd-647d9f62a552"
      },
      "execution_count": null,
      "outputs": [
        {
          "output_type": "stream",
          "name": "stdout",
          "text": [
            "Best Parameters: Short MA Length = 5, Long MA Length = 6\n",
            "Best Returns: 24.32%\n"
          ]
        }
      ]
    },
    {
      "cell_type": "code",
      "source": [],
      "metadata": {
        "id": "-5RCwNSvq7Gl"
      },
      "execution_count": null,
      "outputs": []
    },
    {
      "cell_type": "markdown",
      "source": [
        "#SLT index"
      ],
      "metadata": {
        "id": "X1BOv2b9ts-K"
      }
    },
    {
      "cell_type": "code",
      "source": [
        "df= pd.read_csv('/content/drive/MyDrive/SLTL Historical Data.csv')"
      ],
      "metadata": {
        "id": "mEhnIGfNtu8a"
      },
      "execution_count": null,
      "outputs": []
    },
    {
      "cell_type": "code",
      "source": [
        "# Calculate the returns based on the closing prices\n",
        "df['returns'] = df['Price'].pct_change()"
      ],
      "metadata": {
        "id": "XP5LYCHWt0sN"
      },
      "execution_count": null,
      "outputs": []
    },
    {
      "cell_type": "code",
      "source": [
        "# Define the range of moving average lengths to test\n",
        "min_length = 5\n",
        "max_length = 30\n",
        "step = 5"
      ],
      "metadata": {
        "id": "ofzBAfiMt2Rq"
      },
      "execution_count": null,
      "outputs": []
    },
    {
      "cell_type": "code",
      "source": [
        "best_returns = float('-inf')\n",
        "best_params = None"
      ],
      "metadata": {
        "id": "mS1m3_0Gt4BT"
      },
      "execution_count": null,
      "outputs": []
    },
    {
      "cell_type": "code",
      "source": [
        "# Iterate over the combinations of moving average lengths\n",
        "for short_length in range(min_length, max_length, step):\n",
        "    for long_length in range(short_length + 1, max_length + 1, step):\n",
        "        # Calculate the moving averages\n",
        "        df['short_ma'] = df['Price'].rolling(short_length).mean()\n",
        "        df['long_ma'] = df['Price'].rolling(long_length).mean()\n",
        "\n",
        "\n",
        "\n",
        "        # Apply the strategy\n",
        "        df['position'] = 0\n",
        "        df.loc[df['short_ma'] > df['long_ma'], 'position'] = 1\n",
        "\n",
        "\n",
        "\n",
        "        # Calculate the strategy returns\n",
        "        df['strategy_returns'] = df['position'].shift() * df['returns']\n",
        "\n",
        "\n",
        "\n",
        "        # Calculate the total returns\n",
        "        total_returns = df['strategy_returns'].sum()\n",
        "\n",
        "\n",
        "\n",
        "        # Update the best parameters if necessary\n",
        "        if total_returns > best_returns:\n",
        "            best_returns = total_returns\n",
        "            best_params = (short_length, long_length)\n",
        "\n",
        "\n",
        "\n",
        "# Print the best parameters and returns\n",
        "print(\"Best Parameters: Short MA Length = {}, Long MA Length = {}\".format(best_params[0], best_params[1]))\n",
        "print(\"Best Returns: {:.2%}\".format(best_returns))"
      ],
      "metadata": {
        "colab": {
          "base_uri": "https://localhost:8080/"
        },
        "id": "bT4iqLODt5fV",
        "outputId": "85c976d1-2503-4be0-f796-f5b71ef973f1"
      },
      "execution_count": null,
      "outputs": [
        {
          "output_type": "stream",
          "name": "stdout",
          "text": [
            "Best Parameters: Short MA Length = 20, Long MA Length = 21\n",
            "Best Returns: -58.05%\n"
          ]
        }
      ]
    },
    {
      "cell_type": "code",
      "source": [],
      "metadata": {
        "id": "Nc-fVf5jt64b"
      },
      "execution_count": null,
      "outputs": []
    },
    {
      "cell_type": "markdown",
      "source": [
        "#Softlogic index"
      ],
      "metadata": {
        "id": "UOb-lLfUt9oO"
      }
    },
    {
      "cell_type": "code",
      "source": [
        "df= pd.read_csv('/content/drive/MyDrive/SFTL Historical Data.csv')"
      ],
      "metadata": {
        "id": "xzU4yUart_8T"
      },
      "execution_count": null,
      "outputs": []
    },
    {
      "cell_type": "code",
      "source": [
        "# Calculate the returns based on the closing prices\n",
        "df['returns'] = df['Price'].pct_change()"
      ],
      "metadata": {
        "id": "iaAZvibVuGay"
      },
      "execution_count": null,
      "outputs": []
    },
    {
      "cell_type": "code",
      "source": [
        "# Define the range of moving average lengths to test\n",
        "min_length = 5\n",
        "max_length = 30\n",
        "step = 5"
      ],
      "metadata": {
        "id": "FwuyV5b3uIJX"
      },
      "execution_count": null,
      "outputs": []
    },
    {
      "cell_type": "code",
      "source": [
        "best_returns = float('-inf')\n",
        "best_params = None"
      ],
      "metadata": {
        "id": "zSOC-qanuJc_"
      },
      "execution_count": null,
      "outputs": []
    },
    {
      "cell_type": "code",
      "source": [
        "# Iterate over the combinations of moving average lengths\n",
        "for short_length in range(min_length, max_length, step):\n",
        "    for long_length in range(short_length + 1, max_length + 1, step):\n",
        "        # Calculate the moving averages\n",
        "        df['short_ma'] = df['Price'].rolling(short_length).mean()\n",
        "        df['long_ma'] = df['Price'].rolling(long_length).mean()\n",
        "\n",
        "\n",
        "\n",
        "        # Apply the strategy\n",
        "        df['position'] = 0\n",
        "        df.loc[df['short_ma'] > df['long_ma'], 'position'] = 1\n",
        "\n",
        "\n",
        "\n",
        "        # Calculate the strategy returns\n",
        "        df['strategy_returns'] = df['position'].shift() * df['returns']\n",
        "\n",
        "\n",
        "\n",
        "        # Calculate the total returns\n",
        "        total_returns = df['strategy_returns'].sum()\n",
        "\n",
        "\n",
        "\n",
        "        # Update the best parameters if necessary\n",
        "        if total_returns > best_returns:\n",
        "            best_returns = total_returns\n",
        "            best_params = (short_length, long_length)\n",
        "\n",
        "\n",
        "\n",
        "# Print the best parameters and returns\n",
        "print(\"Best Parameters: Short MA Length = {}, Long MA Length = {}\".format(best_params[0], best_params[1]))\n",
        "print(\"Best Returns: {:.2%}\".format(best_returns))"
      ],
      "metadata": {
        "colab": {
          "base_uri": "https://localhost:8080/"
        },
        "id": "Ehc4oUoDuKu9",
        "outputId": "e6705a15-0767-4897-daa6-1725ba9755c7"
      },
      "execution_count": null,
      "outputs": [
        {
          "output_type": "stream",
          "name": "stdout",
          "text": [
            "Best Parameters: Short MA Length = 10, Long MA Length = 16\n",
            "Best Returns: 177.88%\n"
          ]
        }
      ]
    },
    {
      "cell_type": "code",
      "source": [],
      "metadata": {
        "id": "59lM62RFuMB4"
      },
      "execution_count": null,
      "outputs": []
    },
    {
      "cell_type": "markdown",
      "source": [
        "#Access Engineering index"
      ],
      "metadata": {
        "id": "Fl0xu3azuNhW"
      }
    },
    {
      "cell_type": "code",
      "source": [
        "df= pd.read_csv('/content/drive/MyDrive/ACCE Historical Data.csv')"
      ],
      "metadata": {
        "id": "A6ScZ_fauXDu"
      },
      "execution_count": null,
      "outputs": []
    },
    {
      "cell_type": "code",
      "source": [
        "# Calculate the returns based on the closing prices\n",
        "df['returns'] = df['Price'].pct_change()"
      ],
      "metadata": {
        "id": "VY-vdCU0ufSZ"
      },
      "execution_count": null,
      "outputs": []
    },
    {
      "cell_type": "code",
      "source": [
        "# Define the range of moving average lengths to test\n",
        "min_length = 5\n",
        "max_length = 30\n",
        "step = 5"
      ],
      "metadata": {
        "id": "K1Uli7fkugnQ"
      },
      "execution_count": null,
      "outputs": []
    },
    {
      "cell_type": "code",
      "source": [
        "best_returns = float('-inf')\n",
        "best_params = None"
      ],
      "metadata": {
        "id": "JjVATLZ5uh6t"
      },
      "execution_count": null,
      "outputs": []
    },
    {
      "cell_type": "code",
      "source": [
        "# Iterate over the combinations of moving average lengths\n",
        "for short_length in range(min_length, max_length, step):\n",
        "    for long_length in range(short_length + 1, max_length + 1, step):\n",
        "        # Calculate the moving averages\n",
        "        df['short_ma'] = df['Price'].rolling(short_length).mean()\n",
        "        df['long_ma'] = df['Price'].rolling(long_length).mean()\n",
        "\n",
        "\n",
        "\n",
        "        # Apply the strategy\n",
        "        df['position'] = 0\n",
        "        df.loc[df['short_ma'] > df['long_ma'], 'position'] = 1\n",
        "\n",
        "\n",
        "\n",
        "        # Calculate the strategy returns\n",
        "        df['strategy_returns'] = df['position'].shift() * df['returns']\n",
        "\n",
        "\n",
        "\n",
        "        # Calculate the total returns\n",
        "        total_returns = df['strategy_returns'].sum()\n",
        "\n",
        "\n",
        "\n",
        "        # Update the best parameters if necessary\n",
        "        if total_returns > best_returns:\n",
        "            best_returns = total_returns\n",
        "            best_params = (short_length, long_length)\n",
        "\n",
        "\n",
        "\n",
        "# Print the best parameters and returns\n",
        "print(\"Best Parameters: Short MA Length = {}, Long MA Length = {}\".format(best_params[0], best_params[1]))\n",
        "print(\"Best Returns: {:.2%}\".format(best_returns))"
      ],
      "metadata": {
        "colab": {
          "base_uri": "https://localhost:8080/"
        },
        "id": "bX2hactNujyn",
        "outputId": "f981a0a7-fe64-4b0d-9554-41b55396691a"
      },
      "execution_count": null,
      "outputs": [
        {
          "output_type": "stream",
          "name": "stdout",
          "text": [
            "Best Parameters: Short MA Length = 5, Long MA Length = 16\n",
            "Best Returns: 93.08%\n"
          ]
        }
      ]
    },
    {
      "cell_type": "code",
      "source": [],
      "metadata": {
        "id": "k8F6Z0gWuk8x"
      },
      "execution_count": null,
      "outputs": []
    }
  ]
}