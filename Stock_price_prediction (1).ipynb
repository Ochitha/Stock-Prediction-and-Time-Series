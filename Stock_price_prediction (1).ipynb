{
  "nbformat": 4,
  "nbformat_minor": 0,
  "metadata": {
    "colab": {
      "provenance": []
    },
    "kernelspec": {
      "name": "python3",
      "display_name": "Python 3"
    },
    "language_info": {
      "name": "python"
    }
  },
  "cells": [
    {
      "cell_type": "code",
      "execution_count": null,
      "metadata": {
        "id": "tNrPDUPJntom"
      },
      "outputs": [],
      "source": [
        "import numpy as np\n",
        "import pandas as pd\n",
        "import matplotlib.pyplot as plt\n",
        "import matplotlib as mpl\n",
        "import warnings\n",
        "warnings.filterwarnings('ignore')"
      ]
    },
    {
      "cell_type": "code",
      "source": [
        "from google.colab import drive\n",
        "drive.mount('/content/drive',force_remount=True)"
      ],
      "metadata": {
        "colab": {
          "base_uri": "https://localhost:8080/"
        },
        "id": "t-R9ea_2qItx",
        "outputId": "b19ab73e-c85f-4d78-f466-e4eb330575b0"
      },
      "execution_count": null,
      "outputs": [
        {
          "output_type": "stream",
          "name": "stdout",
          "text": [
            "Mounted at /content/drive\n"
          ]
        }
      ]
    },
    {
      "cell_type": "code",
      "source": [
        "# Read the CSV file with the correct 'thousands' parameter to handle commas\n",
        "stock_data = pd.read_csv('/content/drive/MyDrive/CSE All-Share Historical Data (1).csv', thousands=',')"
      ],
      "metadata": {
        "id": "oUH83DDhqJ9R",
        "colab": {
          "base_uri": "https://localhost:8080/",
          "height": 241
        },
        "outputId": "93b4d427-d212-46b1-9280-dc5bb4235943"
      },
      "execution_count": null,
      "outputs": [
        {
          "output_type": "error",
          "ename": "UnicodeDecodeError",
          "evalue": "ignored",
          "traceback": [
            "\u001b[0;31m---------------------------------------------------------------------------\u001b[0m",
            "\u001b[0;31mUnicodeDecodeError\u001b[0m                        Traceback (most recent call last)",
            "\u001b[0;32m<ipython-input-228-c264131ebb50>\u001b[0m in \u001b[0;36m<cell line: 2>\u001b[0;34m()\u001b[0m\n\u001b[1;32m      1\u001b[0m \u001b[0;31m# Read the CSV file with the correct 'thousands' parameter to handle commas\u001b[0m\u001b[0;34m\u001b[0m\u001b[0;34m\u001b[0m\u001b[0m\n\u001b[0;32m----> 2\u001b[0;31m \u001b[0mstock_data\u001b[0m \u001b[0;34m=\u001b[0m \u001b[0mpd\u001b[0m\u001b[0;34m.\u001b[0m\u001b[0mread_csv\u001b[0m\u001b[0;34m(\u001b[0m\u001b[0;34m'/content/drive/MyDrive/Book.xlsx'\u001b[0m\u001b[0;34m,\u001b[0m \u001b[0mthousands\u001b[0m\u001b[0;34m=\u001b[0m\u001b[0;34m','\u001b[0m\u001b[0;34m)\u001b[0m\u001b[0;34m\u001b[0m\u001b[0;34m\u001b[0m\u001b[0m\n\u001b[0m",
            "\u001b[0;32m/usr/local/lib/python3.10/dist-packages/pandas/util/_decorators.py\u001b[0m in \u001b[0;36mwrapper\u001b[0;34m(*args, **kwargs)\u001b[0m\n\u001b[1;32m    209\u001b[0m                 \u001b[0;32melse\u001b[0m\u001b[0;34m:\u001b[0m\u001b[0;34m\u001b[0m\u001b[0;34m\u001b[0m\u001b[0m\n\u001b[1;32m    210\u001b[0m                     \u001b[0mkwargs\u001b[0m\u001b[0;34m[\u001b[0m\u001b[0mnew_arg_name\u001b[0m\u001b[0;34m]\u001b[0m \u001b[0;34m=\u001b[0m \u001b[0mnew_arg_value\u001b[0m\u001b[0;34m\u001b[0m\u001b[0;34m\u001b[0m\u001b[0m\n\u001b[0;32m--> 211\u001b[0;31m             \u001b[0;32mreturn\u001b[0m \u001b[0mfunc\u001b[0m\u001b[0;34m(\u001b[0m\u001b[0;34m*\u001b[0m\u001b[0margs\u001b[0m\u001b[0;34m,\u001b[0m \u001b[0;34m**\u001b[0m\u001b[0mkwargs\u001b[0m\u001b[0;34m)\u001b[0m\u001b[0;34m\u001b[0m\u001b[0;34m\u001b[0m\u001b[0m\n\u001b[0m\u001b[1;32m    212\u001b[0m \u001b[0;34m\u001b[0m\u001b[0m\n\u001b[1;32m    213\u001b[0m         \u001b[0;32mreturn\u001b[0m \u001b[0mcast\u001b[0m\u001b[0;34m(\u001b[0m\u001b[0mF\u001b[0m\u001b[0;34m,\u001b[0m \u001b[0mwrapper\u001b[0m\u001b[0;34m)\u001b[0m\u001b[0;34m\u001b[0m\u001b[0;34m\u001b[0m\u001b[0m\n",
            "\u001b[0;32m/usr/local/lib/python3.10/dist-packages/pandas/util/_decorators.py\u001b[0m in \u001b[0;36mwrapper\u001b[0;34m(*args, **kwargs)\u001b[0m\n\u001b[1;32m    329\u001b[0m                     \u001b[0mstacklevel\u001b[0m\u001b[0;34m=\u001b[0m\u001b[0mfind_stack_level\u001b[0m\u001b[0;34m(\u001b[0m\u001b[0;34m)\u001b[0m\u001b[0;34m,\u001b[0m\u001b[0;34m\u001b[0m\u001b[0;34m\u001b[0m\u001b[0m\n\u001b[1;32m    330\u001b[0m                 )\n\u001b[0;32m--> 331\u001b[0;31m             \u001b[0;32mreturn\u001b[0m \u001b[0mfunc\u001b[0m\u001b[0;34m(\u001b[0m\u001b[0;34m*\u001b[0m\u001b[0margs\u001b[0m\u001b[0;34m,\u001b[0m \u001b[0;34m**\u001b[0m\u001b[0mkwargs\u001b[0m\u001b[0;34m)\u001b[0m\u001b[0;34m\u001b[0m\u001b[0;34m\u001b[0m\u001b[0m\n\u001b[0m\u001b[1;32m    332\u001b[0m \u001b[0;34m\u001b[0m\u001b[0m\n\u001b[1;32m    333\u001b[0m         \u001b[0;31m# error: \"Callable[[VarArg(Any), KwArg(Any)], Any]\" has no\u001b[0m\u001b[0;34m\u001b[0m\u001b[0;34m\u001b[0m\u001b[0m\n",
            "\u001b[0;32m/usr/local/lib/python3.10/dist-packages/pandas/io/parsers/readers.py\u001b[0m in \u001b[0;36mread_csv\u001b[0;34m(filepath_or_buffer, sep, delimiter, header, names, index_col, usecols, squeeze, prefix, mangle_dupe_cols, dtype, engine, converters, true_values, false_values, skipinitialspace, skiprows, skipfooter, nrows, na_values, keep_default_na, na_filter, verbose, skip_blank_lines, parse_dates, infer_datetime_format, keep_date_col, date_parser, dayfirst, cache_dates, iterator, chunksize, compression, thousands, decimal, lineterminator, quotechar, quoting, doublequote, escapechar, comment, encoding, encoding_errors, dialect, error_bad_lines, warn_bad_lines, on_bad_lines, delim_whitespace, low_memory, memory_map, float_precision, storage_options)\u001b[0m\n\u001b[1;32m    948\u001b[0m     \u001b[0mkwds\u001b[0m\u001b[0;34m.\u001b[0m\u001b[0mupdate\u001b[0m\u001b[0;34m(\u001b[0m\u001b[0mkwds_defaults\u001b[0m\u001b[0;34m)\u001b[0m\u001b[0;34m\u001b[0m\u001b[0;34m\u001b[0m\u001b[0m\n\u001b[1;32m    949\u001b[0m \u001b[0;34m\u001b[0m\u001b[0m\n\u001b[0;32m--> 950\u001b[0;31m     \u001b[0;32mreturn\u001b[0m \u001b[0m_read\u001b[0m\u001b[0;34m(\u001b[0m\u001b[0mfilepath_or_buffer\u001b[0m\u001b[0;34m,\u001b[0m \u001b[0mkwds\u001b[0m\u001b[0;34m)\u001b[0m\u001b[0;34m\u001b[0m\u001b[0;34m\u001b[0m\u001b[0m\n\u001b[0m\u001b[1;32m    951\u001b[0m \u001b[0;34m\u001b[0m\u001b[0m\n\u001b[1;32m    952\u001b[0m \u001b[0;34m\u001b[0m\u001b[0m\n",
            "\u001b[0;32m/usr/local/lib/python3.10/dist-packages/pandas/io/parsers/readers.py\u001b[0m in \u001b[0;36m_read\u001b[0;34m(filepath_or_buffer, kwds)\u001b[0m\n\u001b[1;32m    603\u001b[0m \u001b[0;34m\u001b[0m\u001b[0m\n\u001b[1;32m    604\u001b[0m     \u001b[0;31m# Create the parser.\u001b[0m\u001b[0;34m\u001b[0m\u001b[0;34m\u001b[0m\u001b[0m\n\u001b[0;32m--> 605\u001b[0;31m     \u001b[0mparser\u001b[0m \u001b[0;34m=\u001b[0m \u001b[0mTextFileReader\u001b[0m\u001b[0;34m(\u001b[0m\u001b[0mfilepath_or_buffer\u001b[0m\u001b[0;34m,\u001b[0m \u001b[0;34m**\u001b[0m\u001b[0mkwds\u001b[0m\u001b[0;34m)\u001b[0m\u001b[0;34m\u001b[0m\u001b[0;34m\u001b[0m\u001b[0m\n\u001b[0m\u001b[1;32m    606\u001b[0m \u001b[0;34m\u001b[0m\u001b[0m\n\u001b[1;32m    607\u001b[0m     \u001b[0;32mif\u001b[0m \u001b[0mchunksize\u001b[0m \u001b[0;32mor\u001b[0m \u001b[0miterator\u001b[0m\u001b[0;34m:\u001b[0m\u001b[0;34m\u001b[0m\u001b[0;34m\u001b[0m\u001b[0m\n",
            "\u001b[0;32m/usr/local/lib/python3.10/dist-packages/pandas/io/parsers/readers.py\u001b[0m in \u001b[0;36m__init__\u001b[0;34m(self, f, engine, **kwds)\u001b[0m\n\u001b[1;32m   1440\u001b[0m \u001b[0;34m\u001b[0m\u001b[0m\n\u001b[1;32m   1441\u001b[0m         \u001b[0mself\u001b[0m\u001b[0;34m.\u001b[0m\u001b[0mhandles\u001b[0m\u001b[0;34m:\u001b[0m \u001b[0mIOHandles\u001b[0m \u001b[0;34m|\u001b[0m \u001b[0;32mNone\u001b[0m \u001b[0;34m=\u001b[0m \u001b[0;32mNone\u001b[0m\u001b[0;34m\u001b[0m\u001b[0;34m\u001b[0m\u001b[0m\n\u001b[0;32m-> 1442\u001b[0;31m         \u001b[0mself\u001b[0m\u001b[0;34m.\u001b[0m\u001b[0m_engine\u001b[0m \u001b[0;34m=\u001b[0m \u001b[0mself\u001b[0m\u001b[0;34m.\u001b[0m\u001b[0m_make_engine\u001b[0m\u001b[0;34m(\u001b[0m\u001b[0mf\u001b[0m\u001b[0;34m,\u001b[0m \u001b[0mself\u001b[0m\u001b[0;34m.\u001b[0m\u001b[0mengine\u001b[0m\u001b[0;34m)\u001b[0m\u001b[0;34m\u001b[0m\u001b[0;34m\u001b[0m\u001b[0m\n\u001b[0m\u001b[1;32m   1443\u001b[0m \u001b[0;34m\u001b[0m\u001b[0m\n\u001b[1;32m   1444\u001b[0m     \u001b[0;32mdef\u001b[0m \u001b[0mclose\u001b[0m\u001b[0;34m(\u001b[0m\u001b[0mself\u001b[0m\u001b[0;34m)\u001b[0m \u001b[0;34m->\u001b[0m \u001b[0;32mNone\u001b[0m\u001b[0;34m:\u001b[0m\u001b[0;34m\u001b[0m\u001b[0;34m\u001b[0m\u001b[0m\n",
            "\u001b[0;32m/usr/local/lib/python3.10/dist-packages/pandas/io/parsers/readers.py\u001b[0m in \u001b[0;36m_make_engine\u001b[0;34m(self, f, engine)\u001b[0m\n\u001b[1;32m   1751\u001b[0m \u001b[0;34m\u001b[0m\u001b[0m\n\u001b[1;32m   1752\u001b[0m         \u001b[0;32mtry\u001b[0m\u001b[0;34m:\u001b[0m\u001b[0;34m\u001b[0m\u001b[0;34m\u001b[0m\u001b[0m\n\u001b[0;32m-> 1753\u001b[0;31m             \u001b[0;32mreturn\u001b[0m \u001b[0mmapping\u001b[0m\u001b[0;34m[\u001b[0m\u001b[0mengine\u001b[0m\u001b[0;34m]\u001b[0m\u001b[0;34m(\u001b[0m\u001b[0mf\u001b[0m\u001b[0;34m,\u001b[0m \u001b[0;34m**\u001b[0m\u001b[0mself\u001b[0m\u001b[0;34m.\u001b[0m\u001b[0moptions\u001b[0m\u001b[0;34m)\u001b[0m\u001b[0;34m\u001b[0m\u001b[0;34m\u001b[0m\u001b[0m\n\u001b[0m\u001b[1;32m   1754\u001b[0m         \u001b[0;32mexcept\u001b[0m \u001b[0mException\u001b[0m\u001b[0;34m:\u001b[0m\u001b[0;34m\u001b[0m\u001b[0;34m\u001b[0m\u001b[0m\n\u001b[1;32m   1755\u001b[0m             \u001b[0;32mif\u001b[0m \u001b[0mself\u001b[0m\u001b[0;34m.\u001b[0m\u001b[0mhandles\u001b[0m \u001b[0;32mis\u001b[0m \u001b[0;32mnot\u001b[0m \u001b[0;32mNone\u001b[0m\u001b[0;34m:\u001b[0m\u001b[0;34m\u001b[0m\u001b[0;34m\u001b[0m\u001b[0m\n",
            "\u001b[0;32m/usr/local/lib/python3.10/dist-packages/pandas/io/parsers/c_parser_wrapper.py\u001b[0m in \u001b[0;36m__init__\u001b[0;34m(self, src, **kwds)\u001b[0m\n\u001b[1;32m     77\u001b[0m \u001b[0;34m\u001b[0m\u001b[0m\n\u001b[1;32m     78\u001b[0m         \u001b[0mkwds\u001b[0m\u001b[0;34m[\u001b[0m\u001b[0;34m\"dtype\"\u001b[0m\u001b[0;34m]\u001b[0m \u001b[0;34m=\u001b[0m \u001b[0mensure_dtype_objs\u001b[0m\u001b[0;34m(\u001b[0m\u001b[0mkwds\u001b[0m\u001b[0;34m.\u001b[0m\u001b[0mget\u001b[0m\u001b[0;34m(\u001b[0m\u001b[0;34m\"dtype\"\u001b[0m\u001b[0;34m,\u001b[0m \u001b[0;32mNone\u001b[0m\u001b[0;34m)\u001b[0m\u001b[0;34m)\u001b[0m\u001b[0;34m\u001b[0m\u001b[0;34m\u001b[0m\u001b[0m\n\u001b[0;32m---> 79\u001b[0;31m         \u001b[0mself\u001b[0m\u001b[0;34m.\u001b[0m\u001b[0m_reader\u001b[0m \u001b[0;34m=\u001b[0m \u001b[0mparsers\u001b[0m\u001b[0;34m.\u001b[0m\u001b[0mTextReader\u001b[0m\u001b[0;34m(\u001b[0m\u001b[0msrc\u001b[0m\u001b[0;34m,\u001b[0m \u001b[0;34m**\u001b[0m\u001b[0mkwds\u001b[0m\u001b[0;34m)\u001b[0m\u001b[0;34m\u001b[0m\u001b[0;34m\u001b[0m\u001b[0m\n\u001b[0m\u001b[1;32m     80\u001b[0m \u001b[0;34m\u001b[0m\u001b[0m\n\u001b[1;32m     81\u001b[0m         \u001b[0mself\u001b[0m\u001b[0;34m.\u001b[0m\u001b[0munnamed_cols\u001b[0m \u001b[0;34m=\u001b[0m \u001b[0mself\u001b[0m\u001b[0;34m.\u001b[0m\u001b[0m_reader\u001b[0m\u001b[0;34m.\u001b[0m\u001b[0munnamed_cols\u001b[0m\u001b[0;34m\u001b[0m\u001b[0;34m\u001b[0m\u001b[0m\n",
            "\u001b[0;32m/usr/local/lib/python3.10/dist-packages/pandas/_libs/parsers.pyx\u001b[0m in \u001b[0;36mpandas._libs.parsers.TextReader.__cinit__\u001b[0;34m()\u001b[0m\n",
            "\u001b[0;32m/usr/local/lib/python3.10/dist-packages/pandas/_libs/parsers.pyx\u001b[0m in \u001b[0;36mpandas._libs.parsers.TextReader._get_header\u001b[0;34m()\u001b[0m\n",
            "\u001b[0;32m/usr/local/lib/python3.10/dist-packages/pandas/_libs/parsers.pyx\u001b[0m in \u001b[0;36mpandas._libs.parsers.TextReader._tokenize_rows\u001b[0;34m()\u001b[0m\n",
            "\u001b[0;32m/usr/local/lib/python3.10/dist-packages/pandas/_libs/parsers.pyx\u001b[0m in \u001b[0;36mpandas._libs.parsers.raise_parser_error\u001b[0;34m()\u001b[0m\n",
            "\u001b[0;31mUnicodeDecodeError\u001b[0m: 'utf-8' codec can't decode byte 0x90 in position 22: invalid start byte"
          ]
        }
      ]
    },
    {
      "cell_type": "code",
      "source": [
        "stock_data['Date'] = pd.to_datetime(stock_data['Date'], format='%m/%d/%Y')"
      ],
      "metadata": {
        "id": "KqNwIljAzpm0"
      },
      "execution_count": null,
      "outputs": []
    },
    {
      "cell_type": "code",
      "source": [
        "stock_data.head()"
      ],
      "metadata": {
        "colab": {
          "base_uri": "https://localhost:8080/",
          "height": 206
        },
        "id": "xtxCIs0AqZWa",
        "outputId": "db9cc57f-c2e5-41aa-fa28-9d6ea68db49e"
      },
      "execution_count": null,
      "outputs": [
        {
          "output_type": "execute_result",
          "data": {
            "text/plain": [
              "        Date     Price      Open      High       Low     Vol. Change %\n",
              "0 2023-07-24  11073.01  11106.54  11116.46  11068.57   78.45M   -0.30%\n",
              "1 2023-07-21  11106.54  11026.83  11106.54  10979.21  117.44M    0.76%\n",
              "2 2023-07-20  11023.02  10927.29  11033.40  10916.04  156.51M    0.75%\n",
              "3 2023-07-19  10940.82  10796.07  10946.98  10769.25  182.58M    1.34%\n",
              "4 2023-07-18  10796.07  10727.99  10825.90  10657.51  131.22M    0.63%"
            ],
            "text/html": [
              "\n",
              "\n",
              "  <div id=\"df-ce23da5a-76a6-4ea3-a8c2-5efc09148c51\">\n",
              "    <div class=\"colab-df-container\">\n",
              "      <div>\n",
              "<style scoped>\n",
              "    .dataframe tbody tr th:only-of-type {\n",
              "        vertical-align: middle;\n",
              "    }\n",
              "\n",
              "    .dataframe tbody tr th {\n",
              "        vertical-align: top;\n",
              "    }\n",
              "\n",
              "    .dataframe thead th {\n",
              "        text-align: right;\n",
              "    }\n",
              "</style>\n",
              "<table border=\"1\" class=\"dataframe\">\n",
              "  <thead>\n",
              "    <tr style=\"text-align: right;\">\n",
              "      <th></th>\n",
              "      <th>Date</th>\n",
              "      <th>Price</th>\n",
              "      <th>Open</th>\n",
              "      <th>High</th>\n",
              "      <th>Low</th>\n",
              "      <th>Vol.</th>\n",
              "      <th>Change %</th>\n",
              "    </tr>\n",
              "  </thead>\n",
              "  <tbody>\n",
              "    <tr>\n",
              "      <th>0</th>\n",
              "      <td>2023-07-24</td>\n",
              "      <td>11073.01</td>\n",
              "      <td>11106.54</td>\n",
              "      <td>11116.46</td>\n",
              "      <td>11068.57</td>\n",
              "      <td>78.45M</td>\n",
              "      <td>-0.30%</td>\n",
              "    </tr>\n",
              "    <tr>\n",
              "      <th>1</th>\n",
              "      <td>2023-07-21</td>\n",
              "      <td>11106.54</td>\n",
              "      <td>11026.83</td>\n",
              "      <td>11106.54</td>\n",
              "      <td>10979.21</td>\n",
              "      <td>117.44M</td>\n",
              "      <td>0.76%</td>\n",
              "    </tr>\n",
              "    <tr>\n",
              "      <th>2</th>\n",
              "      <td>2023-07-20</td>\n",
              "      <td>11023.02</td>\n",
              "      <td>10927.29</td>\n",
              "      <td>11033.40</td>\n",
              "      <td>10916.04</td>\n",
              "      <td>156.51M</td>\n",
              "      <td>0.75%</td>\n",
              "    </tr>\n",
              "    <tr>\n",
              "      <th>3</th>\n",
              "      <td>2023-07-19</td>\n",
              "      <td>10940.82</td>\n",
              "      <td>10796.07</td>\n",
              "      <td>10946.98</td>\n",
              "      <td>10769.25</td>\n",
              "      <td>182.58M</td>\n",
              "      <td>1.34%</td>\n",
              "    </tr>\n",
              "    <tr>\n",
              "      <th>4</th>\n",
              "      <td>2023-07-18</td>\n",
              "      <td>10796.07</td>\n",
              "      <td>10727.99</td>\n",
              "      <td>10825.90</td>\n",
              "      <td>10657.51</td>\n",
              "      <td>131.22M</td>\n",
              "      <td>0.63%</td>\n",
              "    </tr>\n",
              "  </tbody>\n",
              "</table>\n",
              "</div>\n",
              "      <button class=\"colab-df-convert\" onclick=\"convertToInteractive('df-ce23da5a-76a6-4ea3-a8c2-5efc09148c51')\"\n",
              "              title=\"Convert this dataframe to an interactive table.\"\n",
              "              style=\"display:none;\">\n",
              "\n",
              "  <svg xmlns=\"http://www.w3.org/2000/svg\" height=\"24px\"viewBox=\"0 0 24 24\"\n",
              "       width=\"24px\">\n",
              "    <path d=\"M0 0h24v24H0V0z\" fill=\"none\"/>\n",
              "    <path d=\"M18.56 5.44l.94 2.06.94-2.06 2.06-.94-2.06-.94-.94-2.06-.94 2.06-2.06.94zm-11 1L8.5 8.5l.94-2.06 2.06-.94-2.06-.94L8.5 2.5l-.94 2.06-2.06.94zm10 10l.94 2.06.94-2.06 2.06-.94-2.06-.94-.94-2.06-.94 2.06-2.06.94z\"/><path d=\"M17.41 7.96l-1.37-1.37c-.4-.4-.92-.59-1.43-.59-.52 0-1.04.2-1.43.59L10.3 9.45l-7.72 7.72c-.78.78-.78 2.05 0 2.83L4 21.41c.39.39.9.59 1.41.59.51 0 1.02-.2 1.41-.59l7.78-7.78 2.81-2.81c.8-.78.8-2.07 0-2.86zM5.41 20L4 18.59l7.72-7.72 1.47 1.35L5.41 20z\"/>\n",
              "  </svg>\n",
              "      </button>\n",
              "\n",
              "\n",
              "\n",
              "    <div id=\"df-1043aff9-fde4-42d9-b170-c7cc107d832e\">\n",
              "      <button class=\"colab-df-quickchart\" onclick=\"quickchart('df-1043aff9-fde4-42d9-b170-c7cc107d832e')\"\n",
              "              title=\"Suggest charts.\"\n",
              "              style=\"display:none;\">\n",
              "\n",
              "<svg xmlns=\"http://www.w3.org/2000/svg\" height=\"24px\"viewBox=\"0 0 24 24\"\n",
              "     width=\"24px\">\n",
              "    <g>\n",
              "        <path d=\"M19 3H5c-1.1 0-2 .9-2 2v14c0 1.1.9 2 2 2h14c1.1 0 2-.9 2-2V5c0-1.1-.9-2-2-2zM9 17H7v-7h2v7zm4 0h-2V7h2v10zm4 0h-2v-4h2v4z\"/>\n",
              "    </g>\n",
              "</svg>\n",
              "      </button>\n",
              "    </div>\n",
              "\n",
              "<style>\n",
              "  .colab-df-quickchart {\n",
              "    background-color: #E8F0FE;\n",
              "    border: none;\n",
              "    border-radius: 50%;\n",
              "    cursor: pointer;\n",
              "    display: none;\n",
              "    fill: #1967D2;\n",
              "    height: 32px;\n",
              "    padding: 0 0 0 0;\n",
              "    width: 32px;\n",
              "  }\n",
              "\n",
              "  .colab-df-quickchart:hover {\n",
              "    background-color: #E2EBFA;\n",
              "    box-shadow: 0px 1px 2px rgba(60, 64, 67, 0.3), 0px 1px 3px 1px rgba(60, 64, 67, 0.15);\n",
              "    fill: #174EA6;\n",
              "  }\n",
              "\n",
              "  [theme=dark] .colab-df-quickchart {\n",
              "    background-color: #3B4455;\n",
              "    fill: #D2E3FC;\n",
              "  }\n",
              "\n",
              "  [theme=dark] .colab-df-quickchart:hover {\n",
              "    background-color: #434B5C;\n",
              "    box-shadow: 0px 1px 3px 1px rgba(0, 0, 0, 0.15);\n",
              "    filter: drop-shadow(0px 1px 2px rgba(0, 0, 0, 0.3));\n",
              "    fill: #FFFFFF;\n",
              "  }\n",
              "</style>\n",
              "\n",
              "    <script>\n",
              "      async function quickchart(key) {\n",
              "        const containerElement = document.querySelector('#' + key);\n",
              "        const charts = await google.colab.kernel.invokeFunction(\n",
              "            'suggestCharts', [key], {});\n",
              "      }\n",
              "    </script>\n",
              "\n",
              "      <script>\n",
              "\n",
              "function displayQuickchartButton(domScope) {\n",
              "  let quickchartButtonEl =\n",
              "    domScope.querySelector('#df-1043aff9-fde4-42d9-b170-c7cc107d832e button.colab-df-quickchart');\n",
              "  quickchartButtonEl.style.display =\n",
              "    google.colab.kernel.accessAllowed ? 'block' : 'none';\n",
              "}\n",
              "\n",
              "        displayQuickchartButton(document);\n",
              "      </script>\n",
              "      <style>\n",
              "    .colab-df-container {\n",
              "      display:flex;\n",
              "      flex-wrap:wrap;\n",
              "      gap: 12px;\n",
              "    }\n",
              "\n",
              "    .colab-df-convert {\n",
              "      background-color: #E8F0FE;\n",
              "      border: none;\n",
              "      border-radius: 50%;\n",
              "      cursor: pointer;\n",
              "      display: none;\n",
              "      fill: #1967D2;\n",
              "      height: 32px;\n",
              "      padding: 0 0 0 0;\n",
              "      width: 32px;\n",
              "    }\n",
              "\n",
              "    .colab-df-convert:hover {\n",
              "      background-color: #E2EBFA;\n",
              "      box-shadow: 0px 1px 2px rgba(60, 64, 67, 0.3), 0px 1px 3px 1px rgba(60, 64, 67, 0.15);\n",
              "      fill: #174EA6;\n",
              "    }\n",
              "\n",
              "    [theme=dark] .colab-df-convert {\n",
              "      background-color: #3B4455;\n",
              "      fill: #D2E3FC;\n",
              "    }\n",
              "\n",
              "    [theme=dark] .colab-df-convert:hover {\n",
              "      background-color: #434B5C;\n",
              "      box-shadow: 0px 1px 3px 1px rgba(0, 0, 0, 0.15);\n",
              "      filter: drop-shadow(0px 1px 2px rgba(0, 0, 0, 0.3));\n",
              "      fill: #FFFFFF;\n",
              "    }\n",
              "  </style>\n",
              "\n",
              "      <script>\n",
              "        const buttonEl =\n",
              "          document.querySelector('#df-ce23da5a-76a6-4ea3-a8c2-5efc09148c51 button.colab-df-convert');\n",
              "        buttonEl.style.display =\n",
              "          google.colab.kernel.accessAllowed ? 'block' : 'none';\n",
              "\n",
              "        async function convertToInteractive(key) {\n",
              "          const element = document.querySelector('#df-ce23da5a-76a6-4ea3-a8c2-5efc09148c51');\n",
              "          const dataTable =\n",
              "            await google.colab.kernel.invokeFunction('convertToInteractive',\n",
              "                                                     [key], {});\n",
              "          if (!dataTable) return;\n",
              "\n",
              "          const docLinkHtml = 'Like what you see? Visit the ' +\n",
              "            '<a target=\"_blank\" href=https://colab.research.google.com/notebooks/data_table.ipynb>data table notebook</a>'\n",
              "            + ' to learn more about interactive tables.';\n",
              "          element.innerHTML = '';\n",
              "          dataTable['output_type'] = 'display_data';\n",
              "          await google.colab.output.renderOutput(dataTable, element);\n",
              "          const docLink = document.createElement('div');\n",
              "          docLink.innerHTML = docLinkHtml;\n",
              "          element.appendChild(docLink);\n",
              "        }\n",
              "      </script>\n",
              "    </div>\n",
              "  </div>\n"
            ]
          },
          "metadata": {},
          "execution_count": 197
        }
      ]
    },
    {
      "cell_type": "code",
      "source": [
        "# These are the libraries we are going to use\n",
        "import numpy as np # linear algebra\n",
        "import pandas as pd # data processing, CSV file I/O (e.g. pd.read_csv)\n",
        "import matplotlib.pyplot as plt\n",
        "from tensorflow.keras.models import Sequential\n",
        "from tensorflow.keras.layers import Dense, Dropout,LSTM\n",
        "from tensorflow.keras.layers import *\n",
        "from tensorflow.keras.callbacks import EarlyStopping\n",
        "from sklearn.preprocessing import MinMaxScaler, StandardScaler\n",
        "from sklearn.metrics import mean_squared_error, mean_absolute_percentage_error\n",
        "from sklearn.model_selection import train_test_split, TimeSeriesSplit"
      ],
      "metadata": {
        "id": "LLlVal6IqgVc"
      },
      "execution_count": null,
      "outputs": []
    },
    {
      "cell_type": "markdown",
      "source": [
        "#Data Preprocessing"
      ],
      "metadata": {
        "id": "i3uod17n6rha"
      }
    },
    {
      "cell_type": "code",
      "source": [
        "target_y = stock_data['Price']\n",
        "X_feat = stock_data.iloc[:,0:3]"
      ],
      "metadata": {
        "id": "wK_ILsQmyGmT"
      },
      "execution_count": null,
      "outputs": []
    },
    {
      "cell_type": "code",
      "source": [
        "# Convert the 'Price' column to numeric values by directly converting to float\n",
        "stock_data['Price'] = stock_data['Price'].astype(float)\n",
        "\n",
        "# Now proceed with the feature scaling as before, excluding the 'Date' column\n",
        "X_feat = stock_data.iloc[:, 1:4]\n",
        "\n",
        "# Feature Scaling\n",
        "sc = StandardScaler()\n",
        "X_ft = sc.fit_transform(X_feat.values)\n",
        "X_ft = pd.DataFrame(columns=X_feat.columns, data=X_ft, index=X_feat.index)\n"
      ],
      "metadata": {
        "id": "xV4GWM1Zwvph"
      },
      "execution_count": null,
      "outputs": []
    },
    {
      "cell_type": "markdown",
      "source": [
        "#Train and test sets for stock price prediction"
      ],
      "metadata": {
        "id": "tiU_mP1r7Eag"
      }
    },
    {
      "cell_type": "code",
      "source": [
        "def lstm_split(data, n_steps):\n",
        "  X, y =[], []\n",
        "  for i in range(len(data)-n_steps+1):\n",
        "    X.append(data[i:i + n_steps, :-1])\n",
        "    y.append(data[i + n_steps-1, -1])\n",
        "\n",
        "  return np.array(X), np.array(y)"
      ],
      "metadata": {
        "id": "cezZlw2rsqEF"
      },
      "execution_count": null,
      "outputs": []
    },
    {
      "cell_type": "code",
      "source": [
        "X1, y1 = lstm_split(X_ft.values, n_steps=2)\n",
        "\n",
        "train_split=0.8\n",
        "split_idx = int(np.ceil(len(X1)*train_split))\n",
        "date_index = X_ft.index\n",
        "\n",
        "X_train, X_test = X1[:split_idx], X1[split_idx:]\n",
        "y_train, y_test = y1[:split_idx], y1[split_idx:]\n",
        "X_train_date, X_test_date = date_index[:split_idx], date_index[split_idx:]\n",
        "\n",
        "print(X1.shape, X_train.shape, X_test.shape, y_test.shape)"
      ],
      "metadata": {
        "colab": {
          "base_uri": "https://localhost:8080/"
        },
        "id": "hwtoFnMQ3Tt3",
        "outputId": "d200b4df-036b-437e-a2d8-a22cd1708941"
      },
      "execution_count": null,
      "outputs": [
        {
          "output_type": "stream",
          "name": "stdout",
          "text": [
            "(919, 2, 2) (736, 2, 2) (183, 2, 2) (183,)\n"
          ]
        }
      ]
    },
    {
      "cell_type": "markdown",
      "source": [
        "#Building the LSTM model"
      ],
      "metadata": {
        "id": "7eR2SVP47Jk0"
      }
    },
    {
      "cell_type": "code",
      "source": [
        "lstm =  Sequential()\n",
        "lstm.add(LSTM(32, input_shape=(X_train.shape[1], X_train.shape[2]), activation='relu', return_sequences=True))\n",
        "lstm.add(Dense(1))\n",
        "lstm.compile(loss='mean_squared_error', optimizer ='adam')\n",
        "lstm.summary()"
      ],
      "metadata": {
        "colab": {
          "base_uri": "https://localhost:8080/"
        },
        "id": "8V4w1CPc50VK",
        "outputId": "e611dd87-d4d1-4d5c-d2e4-537d5c8b6696"
      },
      "execution_count": null,
      "outputs": [
        {
          "output_type": "stream",
          "name": "stdout",
          "text": [
            "Model: \"sequential_14\"\n",
            "_________________________________________________________________\n",
            " Layer (type)                Output Shape              Param #   \n",
            "=================================================================\n",
            " lstm_14 (LSTM)              (None, 2, 32)             4480      \n",
            "                                                                 \n",
            " dense_10 (Dense)            (None, 2, 1)              33        \n",
            "                                                                 \n",
            "=================================================================\n",
            "Total params: 4,513\n",
            "Trainable params: 4,513\n",
            "Non-trainable params: 0\n",
            "_________________________________________________________________\n"
          ]
        }
      ]
    },
    {
      "cell_type": "code",
      "source": [
        "history=lstm.fit(X_train, y_train, epochs=100, batch_size=4, verbose=2, shuffle=False)"
      ],
      "metadata": {
        "colab": {
          "base_uri": "https://localhost:8080/"
        },
        "id": "uGOmqkM77r2s",
        "outputId": "7d29f6b7-123d-467c-e219-bd7f30840684"
      },
      "execution_count": null,
      "outputs": [
        {
          "output_type": "stream",
          "name": "stdout",
          "text": [
            "Epoch 1/100\n",
            "184/184 - 1s - loss: 0.4447 - 1s/epoch - 6ms/step\n",
            "Epoch 2/100\n",
            "184/184 - 0s - loss: 0.1546 - 264ms/epoch - 1ms/step\n",
            "Epoch 3/100\n",
            "184/184 - 0s - loss: 0.0653 - 251ms/epoch - 1ms/step\n",
            "Epoch 4/100\n",
            "184/184 - 0s - loss: 0.0213 - 249ms/epoch - 1ms/step\n",
            "Epoch 5/100\n",
            "184/184 - 0s - loss: 0.0091 - 251ms/epoch - 1ms/step\n",
            "Epoch 6/100\n",
            "184/184 - 0s - loss: 0.0089 - 247ms/epoch - 1ms/step\n",
            "Epoch 7/100\n",
            "184/184 - 0s - loss: 0.0089 - 245ms/epoch - 1ms/step\n",
            "Epoch 8/100\n",
            "184/184 - 0s - loss: 0.0090 - 250ms/epoch - 1ms/step\n",
            "Epoch 9/100\n",
            "184/184 - 0s - loss: 0.0091 - 279ms/epoch - 2ms/step\n",
            "Epoch 10/100\n",
            "184/184 - 0s - loss: 0.0092 - 330ms/epoch - 2ms/step\n",
            "Epoch 11/100\n",
            "184/184 - 0s - loss: 0.0093 - 364ms/epoch - 2ms/step\n",
            "Epoch 12/100\n",
            "184/184 - 0s - loss: 0.0095 - 329ms/epoch - 2ms/step\n",
            "Epoch 13/100\n",
            "184/184 - 0s - loss: 0.0097 - 322ms/epoch - 2ms/step\n",
            "Epoch 14/100\n",
            "184/184 - 0s - loss: 0.0101 - 317ms/epoch - 2ms/step\n",
            "Epoch 15/100\n",
            "184/184 - 0s - loss: 0.0106 - 313ms/epoch - 2ms/step\n",
            "Epoch 16/100\n",
            "184/184 - 0s - loss: 0.0112 - 326ms/epoch - 2ms/step\n",
            "Epoch 17/100\n",
            "184/184 - 0s - loss: 0.0118 - 344ms/epoch - 2ms/step\n",
            "Epoch 18/100\n",
            "184/184 - 0s - loss: 0.0121 - 251ms/epoch - 1ms/step\n",
            "Epoch 19/100\n",
            "184/184 - 0s - loss: 0.0122 - 245ms/epoch - 1ms/step\n",
            "Epoch 20/100\n",
            "184/184 - 0s - loss: 0.0120 - 241ms/epoch - 1ms/step\n",
            "Epoch 21/100\n",
            "184/184 - 0s - loss: 0.0117 - 234ms/epoch - 1ms/step\n",
            "Epoch 22/100\n",
            "184/184 - 0s - loss: 0.0113 - 247ms/epoch - 1ms/step\n",
            "Epoch 23/100\n",
            "184/184 - 0s - loss: 0.0110 - 244ms/epoch - 1ms/step\n",
            "Epoch 24/100\n",
            "184/184 - 0s - loss: 0.0108 - 249ms/epoch - 1ms/step\n",
            "Epoch 25/100\n",
            "184/184 - 0s - loss: 0.0106 - 253ms/epoch - 1ms/step\n",
            "Epoch 26/100\n",
            "184/184 - 0s - loss: 0.0105 - 244ms/epoch - 1ms/step\n",
            "Epoch 27/100\n",
            "184/184 - 0s - loss: 0.0105 - 261ms/epoch - 1ms/step\n",
            "Epoch 28/100\n",
            "184/184 - 0s - loss: 0.0105 - 248ms/epoch - 1ms/step\n",
            "Epoch 29/100\n",
            "184/184 - 0s - loss: 0.0105 - 256ms/epoch - 1ms/step\n",
            "Epoch 30/100\n",
            "184/184 - 0s - loss: 0.0105 - 256ms/epoch - 1ms/step\n",
            "Epoch 31/100\n",
            "184/184 - 0s - loss: 0.0106 - 242ms/epoch - 1ms/step\n",
            "Epoch 32/100\n",
            "184/184 - 0s - loss: 0.0106 - 249ms/epoch - 1ms/step\n",
            "Epoch 33/100\n",
            "184/184 - 0s - loss: 0.0106 - 234ms/epoch - 1ms/step\n",
            "Epoch 34/100\n",
            "184/184 - 0s - loss: 0.0107 - 264ms/epoch - 1ms/step\n",
            "Epoch 35/100\n",
            "184/184 - 0s - loss: 0.0106 - 258ms/epoch - 1ms/step\n",
            "Epoch 36/100\n",
            "184/184 - 0s - loss: 0.0106 - 243ms/epoch - 1ms/step\n",
            "Epoch 37/100\n",
            "184/184 - 0s - loss: 0.0105 - 246ms/epoch - 1ms/step\n",
            "Epoch 38/100\n",
            "184/184 - 0s - loss: 0.0104 - 247ms/epoch - 1ms/step\n",
            "Epoch 39/100\n",
            "184/184 - 0s - loss: 0.0103 - 251ms/epoch - 1ms/step\n",
            "Epoch 40/100\n",
            "184/184 - 0s - loss: 0.0102 - 257ms/epoch - 1ms/step\n",
            "Epoch 41/100\n",
            "184/184 - 0s - loss: 0.0101 - 248ms/epoch - 1ms/step\n",
            "Epoch 42/100\n",
            "184/184 - 0s - loss: 0.0100 - 250ms/epoch - 1ms/step\n",
            "Epoch 43/100\n",
            "184/184 - 0s - loss: 0.0100 - 254ms/epoch - 1ms/step\n",
            "Epoch 44/100\n",
            "184/184 - 0s - loss: 0.0099 - 251ms/epoch - 1ms/step\n",
            "Epoch 45/100\n",
            "184/184 - 0s - loss: 0.0099 - 252ms/epoch - 1ms/step\n",
            "Epoch 46/100\n",
            "184/184 - 0s - loss: 0.0098 - 258ms/epoch - 1ms/step\n",
            "Epoch 47/100\n",
            "184/184 - 0s - loss: 0.0098 - 249ms/epoch - 1ms/step\n",
            "Epoch 48/100\n",
            "184/184 - 0s - loss: 0.0098 - 246ms/epoch - 1ms/step\n",
            "Epoch 49/100\n",
            "184/184 - 0s - loss: 0.0098 - 252ms/epoch - 1ms/step\n",
            "Epoch 50/100\n",
            "184/184 - 0s - loss: 0.0097 - 260ms/epoch - 1ms/step\n",
            "Epoch 51/100\n",
            "184/184 - 0s - loss: 0.0097 - 259ms/epoch - 1ms/step\n",
            "Epoch 52/100\n",
            "184/184 - 0s - loss: 0.0096 - 248ms/epoch - 1ms/step\n",
            "Epoch 53/100\n",
            "184/184 - 0s - loss: 0.0096 - 256ms/epoch - 1ms/step\n",
            "Epoch 54/100\n",
            "184/184 - 0s - loss: 0.0095 - 257ms/epoch - 1ms/step\n",
            "Epoch 55/100\n",
            "184/184 - 0s - loss: 0.0095 - 257ms/epoch - 1ms/step\n",
            "Epoch 56/100\n",
            "184/184 - 0s - loss: 0.0094 - 239ms/epoch - 1ms/step\n",
            "Epoch 57/100\n",
            "184/184 - 0s - loss: 0.0094 - 289ms/epoch - 2ms/step\n",
            "Epoch 58/100\n",
            "184/184 - 0s - loss: 0.0094 - 328ms/epoch - 2ms/step\n",
            "Epoch 59/100\n",
            "184/184 - 0s - loss: 0.0093 - 337ms/epoch - 2ms/step\n",
            "Epoch 60/100\n",
            "184/184 - 0s - loss: 0.0093 - 328ms/epoch - 2ms/step\n",
            "Epoch 61/100\n",
            "184/184 - 0s - loss: 0.0092 - 329ms/epoch - 2ms/step\n",
            "Epoch 62/100\n",
            "184/184 - 0s - loss: 0.0092 - 331ms/epoch - 2ms/step\n",
            "Epoch 63/100\n",
            "184/184 - 0s - loss: 0.0092 - 323ms/epoch - 2ms/step\n",
            "Epoch 64/100\n",
            "184/184 - 0s - loss: 0.0091 - 351ms/epoch - 2ms/step\n",
            "Epoch 65/100\n",
            "184/184 - 0s - loss: 0.0091 - 317ms/epoch - 2ms/step\n",
            "Epoch 66/100\n",
            "184/184 - 0s - loss: 0.0091 - 246ms/epoch - 1ms/step\n",
            "Epoch 67/100\n",
            "184/184 - 0s - loss: 0.0091 - 248ms/epoch - 1ms/step\n",
            "Epoch 68/100\n",
            "184/184 - 0s - loss: 0.0090 - 249ms/epoch - 1ms/step\n",
            "Epoch 69/100\n",
            "184/184 - 0s - loss: 0.0090 - 240ms/epoch - 1ms/step\n",
            "Epoch 70/100\n",
            "184/184 - 0s - loss: 0.0090 - 269ms/epoch - 1ms/step\n",
            "Epoch 71/100\n",
            "184/184 - 0s - loss: 0.0089 - 248ms/epoch - 1ms/step\n",
            "Epoch 72/100\n",
            "184/184 - 0s - loss: 0.0089 - 260ms/epoch - 1ms/step\n",
            "Epoch 73/100\n",
            "184/184 - 0s - loss: 0.0088 - 258ms/epoch - 1ms/step\n",
            "Epoch 74/100\n",
            "184/184 - 0s - loss: 0.0088 - 246ms/epoch - 1ms/step\n",
            "Epoch 75/100\n",
            "184/184 - 0s - loss: 0.0088 - 249ms/epoch - 1ms/step\n",
            "Epoch 76/100\n",
            "184/184 - 0s - loss: 0.0088 - 250ms/epoch - 1ms/step\n",
            "Epoch 77/100\n",
            "184/184 - 0s - loss: 0.0087 - 252ms/epoch - 1ms/step\n",
            "Epoch 78/100\n",
            "184/184 - 0s - loss: 0.0087 - 258ms/epoch - 1ms/step\n",
            "Epoch 79/100\n",
            "184/184 - 0s - loss: 0.0087 - 250ms/epoch - 1ms/step\n",
            "Epoch 80/100\n",
            "184/184 - 0s - loss: 0.0087 - 249ms/epoch - 1ms/step\n",
            "Epoch 81/100\n",
            "184/184 - 0s - loss: 0.0087 - 237ms/epoch - 1ms/step\n",
            "Epoch 82/100\n",
            "184/184 - 0s - loss: 0.0087 - 244ms/epoch - 1ms/step\n",
            "Epoch 83/100\n",
            "184/184 - 0s - loss: 0.0087 - 254ms/epoch - 1ms/step\n",
            "Epoch 84/100\n",
            "184/184 - 0s - loss: 0.0087 - 264ms/epoch - 1ms/step\n",
            "Epoch 85/100\n",
            "184/184 - 0s - loss: 0.0087 - 246ms/epoch - 1ms/step\n",
            "Epoch 86/100\n",
            "184/184 - 0s - loss: 0.0087 - 243ms/epoch - 1ms/step\n",
            "Epoch 87/100\n",
            "184/184 - 0s - loss: 0.0086 - 234ms/epoch - 1ms/step\n",
            "Epoch 88/100\n",
            "184/184 - 0s - loss: 0.0086 - 273ms/epoch - 1ms/step\n",
            "Epoch 89/100\n",
            "184/184 - 0s - loss: 0.0085 - 255ms/epoch - 1ms/step\n",
            "Epoch 90/100\n",
            "184/184 - 0s - loss: 0.0085 - 251ms/epoch - 1ms/step\n",
            "Epoch 91/100\n",
            "184/184 - 0s - loss: 0.0085 - 246ms/epoch - 1ms/step\n",
            "Epoch 92/100\n",
            "184/184 - 0s - loss: 0.0084 - 243ms/epoch - 1ms/step\n",
            "Epoch 93/100\n",
            "184/184 - 0s - loss: 0.0084 - 252ms/epoch - 1ms/step\n",
            "Epoch 94/100\n",
            "184/184 - 0s - loss: 0.0084 - 240ms/epoch - 1ms/step\n",
            "Epoch 95/100\n",
            "184/184 - 0s - loss: 0.0084 - 237ms/epoch - 1ms/step\n",
            "Epoch 96/100\n",
            "184/184 - 0s - loss: 0.0084 - 254ms/epoch - 1ms/step\n",
            "Epoch 97/100\n",
            "184/184 - 0s - loss: 0.0084 - 262ms/epoch - 1ms/step\n",
            "Epoch 98/100\n",
            "184/184 - 0s - loss: 0.0084 - 245ms/epoch - 1ms/step\n",
            "Epoch 99/100\n",
            "184/184 - 0s - loss: 0.0084 - 253ms/epoch - 1ms/step\n",
            "Epoch 100/100\n",
            "184/184 - 0s - loss: 0.0084 - 257ms/epoch - 1ms/step\n"
          ]
        }
      ]
    },
    {
      "cell_type": "code",
      "source": [
        "y_pred = lstm.predict(X_test)"
      ],
      "metadata": {
        "colab": {
          "base_uri": "https://localhost:8080/"
        },
        "id": "IMnjcItH84P8",
        "outputId": "d1c302c5-c9da-4247-db6a-6f34ed72d2fa"
      },
      "execution_count": null,
      "outputs": [
        {
          "output_type": "stream",
          "name": "stdout",
          "text": [
            "6/6 [==============================] - 0s 2ms/step\n"
          ]
        }
      ]
    },
    {
      "cell_type": "code",
      "source": [
        "# Trim y_pred to match the length of y_test\n",
        "y_pred_trimmed = y_pred[:len(y_test)]\n",
        "\n",
        "# Calculate RMSE and MAPE for all predicted values together\n",
        "rmse = np.sqrt(mean_squared_error(y_test, y_pred_trimmed))\n",
        "mape = np.mean(np.abs((y_test - y_pred_trimmed) / y_test)) * 100\n",
        "\n",
        "print(\"RMSE: \", rmse)\n",
        "print(\"MAPE: \", mape)\n"
      ],
      "metadata": {
        "colab": {
          "base_uri": "https://localhost:8080/"
        },
        "id": "E4wWY8ow9d_I",
        "outputId": "e7f6b3ec-cca3-42af-e748-c04c3fe964ff"
      },
      "execution_count": null,
      "outputs": [
        {
          "output_type": "stream",
          "name": "stdout",
          "text": [
            "RMSE:  0.1620422238472241\n",
            "MAPE:  28.67864070878564\n"
          ]
        }
      ]
    },
    {
      "cell_type": "markdown",
      "source": [
        "#Deeper LSTM model"
      ],
      "metadata": {
        "id": "N6PFV3AiAMJj"
      }
    },
    {
      "cell_type": "code",
      "source": [
        "# Create and compile the LSTM model\n",
        "lstm = Sequential()\n",
        "lstm.add(LSTM(50, input_shape=(X_train.shape[1], X_train.shape[2]), activation='relu', return_sequences=True))\n",
        "lstm.add(LSTM(50, activation='relu'))\n",
        "lstm.add(Dense(1))\n",
        "lstm.compile(loss='mean_squared_error', optimizer='adam')\n",
        "lstm.summary()\n",
        "\n",
        "# Train the LSTM model\n",
        "history = lstm.fit(X_train, y_train, epochs=50, batch_size=4, verbose=2, shuffle=False)\n",
        "\n",
        "# Make predictions using the trained model\n",
        "y_pred = lstm.predict(X_test)\n",
        "\n",
        "# Calculate RMSE and MAPE for the predictions\n",
        "rmse = np.sqrt(mean_squared_error(y_test, y_pred))\n",
        "mape = np.mean(np.abs((y_test - y_pred) / y_test)) * 100\n",
        "\n",
        "print(\"RMSE: \", rmse)\n",
        "print(\"MAPE: \", mape)\n"
      ],
      "metadata": {
        "colab": {
          "base_uri": "https://localhost:8080/"
        },
        "id": "BEegYIXZ_hG1",
        "outputId": "2792e7a6-bf17-41f0-fa90-fc1744743d13"
      },
      "execution_count": null,
      "outputs": [
        {
          "output_type": "stream",
          "name": "stdout",
          "text": [
            "Model: \"sequential_15\"\n",
            "_________________________________________________________________\n",
            " Layer (type)                Output Shape              Param #   \n",
            "=================================================================\n",
            " lstm_15 (LSTM)              (None, 2, 50)             10600     \n",
            "                                                                 \n",
            " lstm_16 (LSTM)              (None, 50)                20200     \n",
            "                                                                 \n",
            " dense_11 (Dense)            (None, 1)                 51        \n",
            "                                                                 \n",
            "=================================================================\n",
            "Total params: 30,851\n",
            "Trainable params: 30,851\n",
            "Non-trainable params: 0\n",
            "_________________________________________________________________\n",
            "Epoch 1/50\n",
            "184/184 - 2s - loss: 0.1676 - 2s/epoch - 9ms/step\n",
            "Epoch 2/50\n",
            "184/184 - 0s - loss: 0.0252 - 326ms/epoch - 2ms/step\n",
            "Epoch 3/50\n",
            "184/184 - 0s - loss: 0.0152 - 337ms/epoch - 2ms/step\n",
            "Epoch 4/50\n",
            "184/184 - 0s - loss: 0.0116 - 329ms/epoch - 2ms/step\n",
            "Epoch 5/50\n",
            "184/184 - 0s - loss: 0.0104 - 341ms/epoch - 2ms/step\n",
            "Epoch 6/50\n",
            "184/184 - 0s - loss: 0.0084 - 346ms/epoch - 2ms/step\n",
            "Epoch 7/50\n",
            "184/184 - 0s - loss: 0.0083 - 325ms/epoch - 2ms/step\n",
            "Epoch 8/50\n",
            "184/184 - 0s - loss: 0.0081 - 332ms/epoch - 2ms/step\n",
            "Epoch 9/50\n",
            "184/184 - 0s - loss: 0.0080 - 332ms/epoch - 2ms/step\n",
            "Epoch 10/50\n",
            "184/184 - 0s - loss: 0.0083 - 337ms/epoch - 2ms/step\n",
            "Epoch 11/50\n",
            "184/184 - 0s - loss: 0.0079 - 331ms/epoch - 2ms/step\n",
            "Epoch 12/50\n",
            "184/184 - 0s - loss: 0.0081 - 351ms/epoch - 2ms/step\n",
            "Epoch 13/50\n",
            "184/184 - 0s - loss: 0.0086 - 340ms/epoch - 2ms/step\n",
            "Epoch 14/50\n",
            "184/184 - 0s - loss: 0.0102 - 345ms/epoch - 2ms/step\n",
            "Epoch 15/50\n",
            "184/184 - 0s - loss: 0.0101 - 342ms/epoch - 2ms/step\n",
            "Epoch 16/50\n",
            "184/184 - 0s - loss: 0.0125 - 402ms/epoch - 2ms/step\n",
            "Epoch 17/50\n",
            "184/184 - 0s - loss: 0.0106 - 429ms/epoch - 2ms/step\n",
            "Epoch 18/50\n",
            "184/184 - 0s - loss: 0.0131 - 421ms/epoch - 2ms/step\n",
            "Epoch 19/50\n",
            "184/184 - 0s - loss: 0.0101 - 444ms/epoch - 2ms/step\n",
            "Epoch 20/50\n",
            "184/184 - 0s - loss: 0.0120 - 465ms/epoch - 3ms/step\n",
            "Epoch 21/50\n",
            "184/184 - 0s - loss: 0.0091 - 461ms/epoch - 3ms/step\n",
            "Epoch 22/50\n",
            "184/184 - 0s - loss: 0.0105 - 437ms/epoch - 2ms/step\n",
            "Epoch 23/50\n",
            "184/184 - 0s - loss: 0.0075 - 332ms/epoch - 2ms/step\n",
            "Epoch 24/50\n",
            "184/184 - 0s - loss: 0.0078 - 332ms/epoch - 2ms/step\n",
            "Epoch 25/50\n",
            "184/184 - 0s - loss: 0.0065 - 353ms/epoch - 2ms/step\n",
            "Epoch 26/50\n",
            "184/184 - 0s - loss: 0.0066 - 336ms/epoch - 2ms/step\n",
            "Epoch 27/50\n",
            "184/184 - 0s - loss: 0.0052 - 343ms/epoch - 2ms/step\n",
            "Epoch 28/50\n",
            "184/184 - 0s - loss: 0.0060 - 349ms/epoch - 2ms/step\n",
            "Epoch 29/50\n",
            "184/184 - 0s - loss: 0.0041 - 321ms/epoch - 2ms/step\n",
            "Epoch 30/50\n",
            "184/184 - 0s - loss: 0.0052 - 328ms/epoch - 2ms/step\n",
            "Epoch 31/50\n",
            "184/184 - 0s - loss: 0.0045 - 351ms/epoch - 2ms/step\n",
            "Epoch 32/50\n",
            "184/184 - 0s - loss: 0.0056 - 348ms/epoch - 2ms/step\n",
            "Epoch 33/50\n",
            "184/184 - 0s - loss: 0.0047 - 337ms/epoch - 2ms/step\n",
            "Epoch 34/50\n",
            "184/184 - 0s - loss: 0.0063 - 357ms/epoch - 2ms/step\n",
            "Epoch 35/50\n",
            "184/184 - 0s - loss: 0.0055 - 345ms/epoch - 2ms/step\n",
            "Epoch 36/50\n",
            "184/184 - 0s - loss: 0.0077 - 332ms/epoch - 2ms/step\n",
            "Epoch 37/50\n",
            "184/184 - 0s - loss: 0.0065 - 347ms/epoch - 2ms/step\n",
            "Epoch 38/50\n",
            "184/184 - 0s - loss: 0.0102 - 331ms/epoch - 2ms/step\n",
            "Epoch 39/50\n",
            "184/184 - 0s - loss: 0.0071 - 322ms/epoch - 2ms/step\n",
            "Epoch 40/50\n",
            "184/184 - 0s - loss: 0.0110 - 351ms/epoch - 2ms/step\n",
            "Epoch 41/50\n",
            "184/184 - 0s - loss: 0.0074 - 343ms/epoch - 2ms/step\n",
            "Epoch 42/50\n",
            "184/184 - 0s - loss: 0.0092 - 340ms/epoch - 2ms/step\n",
            "Epoch 43/50\n",
            "184/184 - 0s - loss: 0.0063 - 346ms/epoch - 2ms/step\n",
            "Epoch 44/50\n",
            "184/184 - 0s - loss: 0.0065 - 333ms/epoch - 2ms/step\n",
            "Epoch 45/50\n",
            "184/184 - 0s - loss: 0.0043 - 338ms/epoch - 2ms/step\n",
            "Epoch 46/50\n",
            "184/184 - 0s - loss: 0.0041 - 349ms/epoch - 2ms/step\n",
            "Epoch 47/50\n",
            "184/184 - 0s - loss: 0.0034 - 341ms/epoch - 2ms/step\n",
            "Epoch 48/50\n",
            "184/184 - 0s - loss: 0.0031 - 330ms/epoch - 2ms/step\n",
            "Epoch 49/50\n",
            "184/184 - 0s - loss: 0.0029 - 346ms/epoch - 2ms/step\n",
            "Epoch 50/50\n",
            "184/184 - 0s - loss: 0.0028 - 344ms/epoch - 2ms/step\n",
            "6/6 [==============================] - 0s 3ms/step\n",
            "RMSE:  0.1620422238472241\n",
            "MAPE:  28.67864070878564\n"
          ]
        }
      ]
    },
    {
      "cell_type": "code",
      "source": [
        "n_steps=10\n",
        "X1, y1 = lstm_split(X_ft.values, n_steps=2)\n",
        "\n",
        "train_split=0.8\n",
        "split_idx = int(np.ceil(len(X1)*train_split))\n",
        "date_index = X_ft.index\n",
        "\n",
        "X_train, X_test = X1[:split_idx], X1[split_idx:]\n",
        "y_train, y_test = y1[:split_idx], y1[split_idx:]\n",
        "X_train_date, X_test_date = date_index[:split_idx], date_index[split_idx:]\n",
        "\n",
        "print(X1.shape, X_train.shape, X_test.shape,X_test_date.shape, y_test.shape)"
      ],
      "metadata": {
        "colab": {
          "base_uri": "https://localhost:8080/"
        },
        "id": "vZwr5uKf_5-L",
        "outputId": "2d185aab-95ea-46e5-be95-1ca8030d8ddf"
      },
      "execution_count": null,
      "outputs": [
        {
          "output_type": "stream",
          "name": "stdout",
          "text": [
            "(919, 2, 2) (736, 2, 2) (183, 2, 2) (184,) (183,)\n"
          ]
        }
      ]
    },
    {
      "cell_type": "code",
      "source": [
        "# Trim y_pred to match the length of y_test\n",
        "y_pred_trimmed = y_pred[:len(y_test)]\n",
        "\n",
        "# Calculate RMSE and MAPE for all predicted values together\n",
        "rmse = np.sqrt(mean_squared_error(y_test, y_pred_trimmed))\n",
        "mape = np.mean(np.abs((y_test - y_pred_trimmed) / y_test)) * 100\n",
        "\n",
        "print(\"RMSE: \", rmse)\n",
        "print(\"MAPE: \", mape)\n"
      ],
      "metadata": {
        "colab": {
          "base_uri": "https://localhost:8080/"
        },
        "id": "rQfVcBGyDYWj",
        "outputId": "a3b8d2cf-1852-4d66-96e5-c8688e5fa1b9"
      },
      "execution_count": null,
      "outputs": [
        {
          "output_type": "stream",
          "name": "stdout",
          "text": [
            "RMSE:  0.1620422238472241\n",
            "MAPE:  28.67864070878564\n"
          ]
        }
      ]
    },
    {
      "cell_type": "markdown",
      "source": [
        "#Simple Moving Average"
      ],
      "metadata": {
        "id": "W6CEjiJ_LUS1"
      }
    },
    {
      "cell_type": "code",
      "source": [
        "# Read the CSV file with the correct 'thousands' parameter to handle commas\n",
        "stock_data = pd.read_csv('/content/drive/MyDrive/CSE All-Share Historical Data (1).csv', thousands=',')"
      ],
      "metadata": {
        "id": "k0WBLM53MjUe"
      },
      "execution_count": null,
      "outputs": []
    },
    {
      "cell_type": "code",
      "source": [
        "stock_data['Date'] = pd.to_datetime(stock_data['Date'], format='%m/%d/%Y')"
      ],
      "metadata": {
        "id": "6AU5cGzZMxek"
      },
      "execution_count": null,
      "outputs": []
    },
    {
      "cell_type": "code",
      "source": [
        "target_y = stock_data['Price']\n",
        "X_feat = stock_data.iloc[:,0:3]"
      ],
      "metadata": {
        "id": "sl8oplwoM0xD"
      },
      "execution_count": null,
      "outputs": []
    },
    {
      "cell_type": "code",
      "source": [
        "# Convert the 'Price' column to numeric values by directly converting to float\n",
        "stock_data['Price'] = stock_data['Price'].astype(float)\n",
        "\n",
        "# Now proceed with the feature scaling as before, excluding the 'Date' column\n",
        "X_feat = stock_data.iloc[:, 1:4]\n",
        "\n",
        "# Feature Scaling\n",
        "sc = StandardScaler()\n",
        "X_ft = sc.fit_transform(X_feat.values)\n",
        "X_ft = pd.DataFrame(columns=X_feat.columns, data=X_ft, index=X_feat.index)\n"
      ],
      "metadata": {
        "id": "8D2PN-m9NuTU"
      },
      "execution_count": null,
      "outputs": []
    },
    {
      "cell_type": "code",
      "source": [],
      "metadata": {
        "id": "5rse9P2ZN0-k"
      },
      "execution_count": null,
      "outputs": []
    },
    {
      "cell_type": "code",
      "source": [
        "train_split = 0.8\n",
        "split_idx = int(np.ceil(len(stock_data)*train_split))\n",
        "train = stock_data[['Price']].iloc[:split_idx]\n",
        "test = stock_data[['Price']].iloc[split_idx:]\n",
        "\n",
        "test_pred = np.array([train.rolling(10).mean().iloc[-1]]*len(test)).reshape((-1,1))\n",
        "\n",
        "print('Test RMSE: %.3f' % mean_squared_error(test, test_pred, squared=False))\n",
        "print('Test MAPE: %.3f' % mean_absolute_percentage_error(test, test_pred))\n",
        "\n",
        "plt.figure(figsize=(10,5))\n",
        "plt.plot(test)\n",
        "plt.plot(test_pred)\n",
        "plt.show"
      ],
      "metadata": {
        "colab": {
          "base_uri": "https://localhost:8080/",
          "height": 398
        },
        "id": "26zk4EA-GPze",
        "outputId": "230b3699-8b31-4f7f-e37b-2735d31e399b"
      },
      "execution_count": null,
      "outputs": [
        {
          "output_type": "stream",
          "name": "stdout",
          "text": [
            "Test RMSE: 749.145\n",
            "Test MAPE: 0.122\n"
          ]
        },
        {
          "output_type": "execute_result",
          "data": {
            "text/plain": [
              "<function matplotlib.pyplot.show(close=None, block=None)>"
            ]
          },
          "metadata": {},
          "execution_count": 227
        },
        {
          "output_type": "display_data",
          "data": {
            "text/plain": [
              "<Figure size 1000x500 with 1 Axes>"
            ],
            "image/png": "[encoded data removed]"
          },
          "metadata": {}
        }
      ]
    },
    {
      "cell_type": "markdown",
      "source": [
        "#Exponential Moving Average"
      ],
      "metadata": {
        "id": "Gh-MvG5kPe5J"
      }
    },
    {
      "cell_type": "code",
      "source": [
        "from statsmodels.tsa.api import SimpleExpSmoothing\n",
        "\n",
        "X = stock_data[['Price']].values\n",
        "train_split= 0.8\n",
        "split_idx = int(np.ceil(len(X)*train_split))\n",
        "train = X[:split_idx]\n",
        "test = X[split_idx:]\n",
        "test_concat = np.array([]).reshape((0,1))\n",
        "\n",
        "for i in range(len(test)):\n",
        "  train_fit = np.concatenate((train, np.asarray(test_concat)))\n",
        "  fit = SimpleExpSmoothing(np.asarray(train_fit)).fit(smoothing_level=0.2)\n",
        "  test_pred = fit.forecast(1)\n",
        "  test_concat = np.concatenate((np.asarray(test_concat),test_pred.reshape((-1,1))))\n",
        "\n",
        "print('Test RMSE: %.3f' % mean_squared_error(test, test_concat, squared=False))\n",
        "print('Test MAPE: %.3f' % mean_absolute_percentage_error(test, test_concat))\n",
        "\n",
        "plt.figure(figsize=(10,5))\n",
        "plt.plot(test)\n",
        "plt.plot(test_concat)\n",
        "plt.show"
      ],
      "metadata": {
        "colab": {
          "base_uri": "https://localhost:8080/",
          "height": 398
        },
        "id": "ZsUb8K4oL-xj",
        "outputId": "ba5ccc07-1e56-4d65-9080-df742006a74d"
      },
      "execution_count": null,
      "outputs": [
        {
          "output_type": "stream",
          "name": "stdout",
          "text": [
            "Test RMSE: 749.629\n",
            "Test MAPE: 0.122\n"
          ]
        },
        {
          "output_type": "execute_result",
          "data": {
            "text/plain": [
              "<function matplotlib.pyplot.show(close=None, block=None)>"
            ]
          },
          "metadata": {},
          "execution_count": 225
        },
        {
          "output_type": "display_data",
          "data": {
            "text/plain": [
              "<Figure size 1000x500 with 1 Axes>"
            ],
            "image/png": "[encoded data removed]"
          },
          "metadata": {}
        }
      ]
    },
    {
      "cell_type": "code",
      "source": [],
      "metadata": {
        "id": "B5t7aXeEPQfS"
      },
      "execution_count": null,
      "outputs": []
    }
  ]
}